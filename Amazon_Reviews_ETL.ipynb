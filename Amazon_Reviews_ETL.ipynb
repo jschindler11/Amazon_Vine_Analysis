{
 "cells": [
  {
   "cell_type": "code",
   "execution_count": 1,
   "metadata": {
    "colab": {
     "base_uri": "https://localhost:8080/"
    },
    "id": "V58rxea0HqSa",
    "outputId": "fb41f36f-99db-4b80-f686-27f52d86335e"
   },
   "outputs": [
    {
     "name": "stdout",
     "output_type": "stream",
     "text": [
      "\r",
      "0% [Working]\r",
      "            \r",
      "Get:1 http://security.ubuntu.com/ubuntu bionic-security InRelease [88.7 kB]\n",
      "Get:2 https://cloud.r-project.org/bin/linux/ubuntu bionic-cran40/ InRelease [3,626 B]\n",
      "Ign:3 https://developer.download.nvidia.com/compute/machine-learning/repos/ubuntu1804/x86_64  InRelease\n",
      "Hit:4 https://developer.download.nvidia.com/compute/cuda/repos/ubuntu1804/x86_64  InRelease\n",
      "Hit:5 https://developer.download.nvidia.com/compute/machine-learning/repos/ubuntu1804/x86_64  Release\n",
      "Hit:6 http://ppa.launchpad.net/c2d4u.team/c2d4u4.0+/ubuntu bionic InRelease\n",
      "Hit:7 http://archive.ubuntu.com/ubuntu bionic InRelease\n",
      "Get:8 http://archive.ubuntu.com/ubuntu bionic-updates InRelease [88.7 kB]\n",
      "Hit:9 http://ppa.launchpad.net/cran/libgit2/ubuntu bionic InRelease\n",
      "Hit:10 http://ppa.launchpad.net/deadsnakes/ppa/ubuntu bionic InRelease\n",
      "Get:11 http://archive.ubuntu.com/ubuntu bionic-backports InRelease [83.3 kB]\n",
      "Hit:12 http://ppa.launchpad.net/graphics-drivers/ppa/ubuntu bionic InRelease\n",
      "Get:13 http://security.ubuntu.com/ubuntu bionic-security/main amd64 Packages [3,145 kB]\n",
      "Get:14 http://security.ubuntu.com/ubuntu bionic-security/restricted amd64 Packages [1,371 kB]\n",
      "Get:15 http://security.ubuntu.com/ubuntu bionic-security/universe amd64 Packages [1,573 kB]\n",
      "Get:17 http://archive.ubuntu.com/ubuntu bionic-updates/universe amd64 Packages [2,351 kB]\n",
      "Get:18 http://archive.ubuntu.com/ubuntu bionic-updates/restricted amd64 Packages [1,412 kB]\n",
      "Get:19 http://archive.ubuntu.com/ubuntu bionic-updates/main amd64 Packages [3,568 kB]\n",
      "Fetched 13.7 MB in 8s (1,615 kB/s)\n",
      "Reading package lists... Done\n"
     ]
    }
   ],
   "source": [
    "import os\n",
    "# Find the latest version of spark 3.2 from http://www.apache.org/dist/spark/ and enter as the spark version\n",
    "# For example:\n",
    "# spark_version = 'spark-3.2.3'\n",
    "spark_version = 'spark-3.2.3'\n",
    "os.environ['SPARK_VERSION']=spark_version\n",
    "\n",
    "# Install Spark and Java\n",
    "!apt-get update\n",
    "!apt-get install openjdk-11-jdk-headless -qq > /dev/null\n",
    "!wget -q http://www.apache.org/dist/spark/$SPARK_VERSION/$SPARK_VERSION-bin-hadoop2.7.tgz\n",
    "!tar xf $SPARK_VERSION-bin-hadoop2.7.tgz\n",
    "!pip install -q findspark\n",
    "\n",
    "# Set Environment Variables\n",
    "import os\n",
    "os.environ[\"JAVA_HOME\"] = \"/usr/lib/jvm/java-11-openjdk-amd64\"\n",
    "os.environ[\"SPARK_HOME\"] = f\"/content/{spark_version}-bin-hadoop2.7\"\n",
    "\n",
    "# Start a SparkSession\n",
    "import findspark\n",
    "findspark.init()"
   ]
  },
  {
   "cell_type": "code",
   "execution_count": 2,
   "metadata": {
    "colab": {
     "base_uri": "https://localhost:8080/"
    },
    "id": "_xKwTpATHqSe",
    "outputId": "353d1638-d14a-49ed-e977-67ca8fce4a25"
   },
   "outputs": [
    {
     "name": "stdout",
     "output_type": "stream",
     "text": [
      "--2023-01-16 21:34:20--  https://jdbc.postgresql.org/download/postgresql-42.2.16.jar\n",
      "Resolving jdbc.postgresql.org (jdbc.postgresql.org)... 72.32.157.228, 2001:4800:3e1:1::228\n",
      "Connecting to jdbc.postgresql.org (jdbc.postgresql.org)|72.32.157.228|:443... connected.\n",
      "HTTP request sent, awaiting response... 200 OK\n",
      "Length: 1002883 (979K) [application/java-archive]\n",
      "Saving to: ‘postgresql-42.2.16.jar’\n",
      "\n",
      "postgresql-42.2.16. 100%[===================>] 979.38K  --.-KB/s    in 0.09s   \n",
      "\n",
      "2023-01-16 21:34:21 (10.8 MB/s) - ‘postgresql-42.2.16.jar’ saved [1002883/1002883]\n",
      "\n"
     ]
    }
   ],
   "source": [
    "# Download the Postgres driver that will allow Spark to interact with Postgres.\n",
    "!wget https://jdbc.postgresql.org/download/postgresql-42.2.16.jar"
   ]
  },
  {
   "cell_type": "code",
   "execution_count": 3,
   "metadata": {
    "id": "MMqDAjVS0KN9"
   },
   "outputs": [],
   "source": [
    "from pyspark.sql import SparkSession\n",
    "spark = SparkSession.builder.appName(\"M17-Amazon-Challenge\").config(\"spark.driver.extraClassPath\",\"/content/postgresql-42.2.16.jar\").getOrCreate()"
   ]
  },
  {
   "cell_type": "markdown",
   "metadata": {
    "id": "cyBsySGuY-9V"
   },
   "source": [
    "### Load Amazon Data into Spark DataFrame"
   ]
  },
  {
   "cell_type": "code",
   "execution_count": 4,
   "metadata": {
    "colab": {
     "base_uri": "https://localhost:8080/"
    },
    "id": "CtCmBhQJY-9Z",
    "outputId": "da2eac27-e378-48fe-9547-6d5d47a04081"
   },
   "outputs": [
    {
     "name": "stdout",
     "output_type": "stream",
     "text": [
      "+-----------+-----------+--------------+----------+--------------+--------------------+----------------+-----------+-------------+-----------+----+-----------------+--------------------+--------------------+-----------+\n",
      "|marketplace|customer_id|     review_id|product_id|product_parent|       product_title|product_category|star_rating|helpful_votes|total_votes|vine|verified_purchase|     review_headline|         review_body|review_date|\n",
      "+-----------+-----------+--------------+----------+--------------+--------------------+----------------+-----------+-------------+-----------+----+-----------------+--------------------+--------------------+-----------+\n",
      "|         US|   48945260|R1WBPB8MDCCN8F|B012P7UPSM|     409940130|Chicago Blackhawk...|          Sports|          5|            0|          0|   N|                N|   LOVE IT. 6 stars!|Bought this last ...| 2015-08-31|\n",
      "|         US|    5782091|R32M0YEWV77XG8|B001GQ3VHG|     657746679|Copag Poker Size ...|          Sports|          5|            1|          1|   N|                Y|       Shipped fast.|These are the bes...| 2015-08-31|\n",
      "|         US|   45813853| RR8V7WR27NXJ5|B008VS8M58|     962442336|Baoer 223 5.56x45...|          Sports|          1|            0|          0|   N|                Y|Good idea if it w...|It looks good, th...| 2015-08-31|\n",
      "|         US|    1593730|R1MHO5V9Z932AY|B005F06F4U|      74305227|All Terrain Tackl...|          Sports|          5|            0|          0|   N|                Y|          Five Stars|           Great jig| 2015-08-31|\n",
      "|         US|   29605511|R16PD71086BD2V|B010T4IE2C|     787185588|Swim Cap - 3 Pack...|          Sports|          5|            0|          1|   N|                N|Great quality sil...|I love swimming i...| 2015-08-31|\n",
      "|         US|   11112959|R1Z8IFGWTRWXT6|B004RKJGLS|      94127483|adidas Men's Spor...|          Sports|          3|            0|          0|   N|                Y|Love everything a...|Love everything a...| 2015-08-31|\n",
      "|         US|     108031|R3AUMSHAW73HWN|B005V3DCBU|     526977496|Nike Men's Perfor...|          Sports|          4|            2|          3|   N|                N|          Four Stars|not the best sock...| 2015-08-31|\n",
      "|         US|   13981540|R2KWDWFOHGX6FL|B00MHT9WN8|      26521265|Green Bay Packers...|          Sports|          5|            0|          0|   N|                Y|          Five Stars|             Love it| 2015-08-31|\n",
      "|         US|   37993909|R3H9543FWBWFBU|B001CSIRQ8|     652431165|Isokinetics Inc. ...|          Sports|          5|            1|          1|   N|                Y|can't wait to use it|Unfortunately I h...| 2015-08-31|\n",
      "|         US|   26040213| RUANXOQ9W3OU5|B001KZ3NOO|     635861713|Aottop Quality El...|          Sports|          5|            0|          0|   N|                Y|great product, ac...|fast shipping , g...| 2015-08-31|\n",
      "|         US|   34657602|R31673RTGEZSW7|B00005RCQS|      72099763|Everlast 2'x6' Fo...|          Sports|          5|            2|          2|   N|                Y|this mat is a pre...|If you have a ter...| 2015-08-31|\n",
      "|         US|   14346192|R22OQLFSH42RCM|B00FA7RWVI|     757354022|OGIO Men's Shredd...|          Sports|          5|            1|          1|   N|                Y|  Versatile Golf Bag|Love this golf ba...| 2015-08-31|\n",
      "|         US|   38782687|R12LEL4F3TSZUJ|B000MMH2HU|     272402599|Blue Sea Systems ...|          Sports|          5|            2|          2|   N|                Y|Great AC Main Bre...|Perfect mounting ...| 2015-08-31|\n",
      "|         US|   27138575|R2L9XWD03072NI|B00WJOATDS|     375070208|Zengi AR15 45 Deg...|          Sports|          5|            1|          2|   N|                Y|   Nice, some quirks|For the cost you ...| 2015-08-31|\n",
      "|         US|   11838771|R2K0U91HIACANO|B00BOM2JNY|     639666785|Black Mountain Pr...|          Sports|          5|            0|          0|   N|                N|55 cm - Good qual...|The ball is very ...| 2015-08-31|\n",
      "|         US|     535800|R29SP6MBT7MXG7|B00OD5GAFM|      38715442|Trijicon VCOG 1-6...|          Sports|          4|            3|          3|   N|                Y|    Very nice scope.|Very nice scope.....| 2015-08-31|\n",
      "|         US|   23156579|R31XREAAMATEPY|B00CAHDC1K|      57088652|Naruto Headband f...|          Sports|          5|            0|          0|   N|                Y|was for my son an...|           This item| 2015-08-31|\n",
      "|         US|   48107879|R2116AVB87SO38|B004NLHXLG|     114125984|Under Armour Men'...|          Sports|          5|            0|          0|   N|                Y|          Five Stars|greatest socks i ...| 2015-08-31|\n",
      "|         US|   27260960|R3RDVBB6O0X3HW|B00L7OANWI|     883962979|Yes4All Deep Tiss...|          Sports|          5|            0|          0|   N|                Y|          Five Stars|Perfect for home ...| 2015-08-31|\n",
      "|         US|   39537314|R3LW5T149LKKQM|B0085PPSIQ|     691479969|Lansky PS-MED01 B...|          Sports|          4|            0|          0|   N|                Y|A bit heavy for p...|Very good product...| 2015-08-31|\n",
      "+-----------+-----------+--------------+----------+--------------+--------------------+----------------+-----------+-------------+-----------+----+-----------------+--------------------+--------------------+-----------+\n",
      "only showing top 20 rows\n",
      "\n"
     ]
    }
   ],
   "source": [
    "from pyspark import SparkFiles\n",
    "url = \"https://s3.amazonaws.com/amazon-reviews-pds/tsv/amazon_reviews_us_Sports_v1_00.tsv.gz\"\n",
    "spark.sparkContext.addFile(url)\n",
    "df = spark.read.option(\"encoding\", \"UTF-8\").csv(SparkFiles.get(\"amazon_reviews_us_Sports_v1_00.tsv.gz\"), sep=\"\\t\", header=True, inferSchema=True)\n",
    "df.show()"
   ]
  },
  {
   "cell_type": "markdown",
   "metadata": {
    "id": "2yUSe55VY-9t"
   },
   "source": [
    "### Create DataFrames to match tables"
   ]
  },
  {
   "cell_type": "code",
   "execution_count": 5,
   "metadata": {
    "colab": {
     "base_uri": "https://localhost:8080/"
    },
    "id": "C8REmY1aY-9u",
    "outputId": "0c166743-9b45-487d-ba25-88cb6dc8d9f3"
   },
   "outputs": [
    {
     "name": "stdout",
     "output_type": "stream",
     "text": [
      "+-----------+-----------+--------------+----------+--------------+--------------------+----------------+-----------+-------------+-----------+----+-----------------+--------------------+--------------------+-----------+\n",
      "|marketplace|customer_id|     review_id|product_id|product_parent|       product_title|product_category|star_rating|helpful_votes|total_votes|vine|verified_purchase|     review_headline|         review_body|review_date|\n",
      "+-----------+-----------+--------------+----------+--------------+--------------------+----------------+-----------+-------------+-----------+----+-----------------+--------------------+--------------------+-----------+\n",
      "|         US|   48945260|R1WBPB8MDCCN8F|B012P7UPSM|     409940130|Chicago Blackhawk...|          Sports|          5|            0|          0|   N|                N|   LOVE IT. 6 stars!|Bought this last ...| 2015-08-31|\n",
      "|         US|    5782091|R32M0YEWV77XG8|B001GQ3VHG|     657746679|Copag Poker Size ...|          Sports|          5|            1|          1|   N|                Y|       Shipped fast.|These are the bes...| 2015-08-31|\n",
      "|         US|   45813853| RR8V7WR27NXJ5|B008VS8M58|     962442336|Baoer 223 5.56x45...|          Sports|          1|            0|          0|   N|                Y|Good idea if it w...|It looks good, th...| 2015-08-31|\n",
      "|         US|    1593730|R1MHO5V9Z932AY|B005F06F4U|      74305227|All Terrain Tackl...|          Sports|          5|            0|          0|   N|                Y|          Five Stars|           Great jig| 2015-08-31|\n",
      "|         US|   29605511|R16PD71086BD2V|B010T4IE2C|     787185588|Swim Cap - 3 Pack...|          Sports|          5|            0|          1|   N|                N|Great quality sil...|I love swimming i...| 2015-08-31|\n",
      "+-----------+-----------+--------------+----------+--------------+--------------------+----------------+-----------+-------------+-----------+----+-----------------+--------------------+--------------------+-----------+\n",
      "only showing top 5 rows\n",
      "\n"
     ]
    }
   ],
   "source": [
    "from pyspark.sql.functions import to_date\n",
    "# Read in the Review dataset as a DataFrame\n",
    "df.show(5)"
   ]
  },
  {
   "cell_type": "code",
   "execution_count": 6,
   "metadata": {
    "colab": {
     "base_uri": "https://localhost:8080/"
    },
    "id": "B0TESUDRY-90",
    "outputId": "cab5d5dc-7ee1-4b37-820d-32a3afd57b44"
   },
   "outputs": [
    {
     "name": "stdout",
     "output_type": "stream",
     "text": [
      "+-----------+--------------+\n",
      "|customer_id|customer_count|\n",
      "+-----------+--------------+\n",
      "|   35669025|             1|\n",
      "|   48198949|            30|\n",
      "|   43355824|             6|\n",
      "|   33014261|             6|\n",
      "|   23493243|             1|\n",
      "+-----------+--------------+\n",
      "only showing top 5 rows\n",
      "\n"
     ]
    }
   ],
   "source": [
    "# Create the customers_table DataFrame\n",
    "# customers_df = df.groupby(\"\").agg({\"\"}).withColumnRenamed(\"\", \"customer_count\")\n",
    "customers_df = df.groupby(\"customer_id\").agg({\"customer_id\":\"count\"}).withColumnRenamed(\"count(customer_id)\", \"customer_count\")\n",
    "customers_df.show(5)"
   ]
  },
  {
   "cell_type": "code",
   "execution_count": 7,
   "metadata": {
    "colab": {
     "base_uri": "https://localhost:8080/"
    },
    "id": "4FwXA6UvY-96",
    "outputId": "29fa573c-058f-4f69-f199-65befc8344c7"
   },
   "outputs": [
    {
     "name": "stdout",
     "output_type": "stream",
     "text": [
      "+----------+--------------------+\n",
      "|product_id|       product_title|\n",
      "+----------+--------------------+\n",
      "|B0092702VE|Abu Garcia Revo S...|\n",
      "|B00HZ9WTVC|Lee 90355 Cutter ...|\n",
      "|B00WS4FRQ8|BEEWARE Targets -...|\n",
      "|B00AKJVYYC|NEW Callaway RAZR...|\n",
      "|B00DIPSOM0|GoSports Ladder T...|\n",
      "+----------+--------------------+\n",
      "only showing top 5 rows\n",
      "\n"
     ]
    }
   ],
   "source": [
    "# Create the products_table DataFrame and drop duplicates. \n",
    "# products_df = df.select([]).drop_duplicates()\n",
    "products_df = df.select([\"product_id\", \"product_title\"]).drop_duplicates()\n",
    "products_df.show(5)"
   ]
  },
  {
   "cell_type": "code",
   "execution_count": 8,
   "metadata": {
    "colab": {
     "base_uri": "https://localhost:8080/"
    },
    "id": "MkqyCuNQY-9-",
    "outputId": "33e88016-5d51-455d-f537-e1fcedf5da92"
   },
   "outputs": [
    {
     "name": "stdout",
     "output_type": "stream",
     "text": [
      "+--------------+-----------+----------+--------------+-----------+\n",
      "|     review_id|customer_id|product_id|product_parent|review_date|\n",
      "+--------------+-----------+----------+--------------+-----------+\n",
      "|R1WBPB8MDCCN8F|   48945260|B012P7UPSM|     409940130| 2015-08-31|\n",
      "|R32M0YEWV77XG8|    5782091|B001GQ3VHG|     657746679| 2015-08-31|\n",
      "| RR8V7WR27NXJ5|   45813853|B008VS8M58|     962442336| 2015-08-31|\n",
      "|R1MHO5V9Z932AY|    1593730|B005F06F4U|      74305227| 2015-08-31|\n",
      "|R16PD71086BD2V|   29605511|B010T4IE2C|     787185588| 2015-08-31|\n",
      "+--------------+-----------+----------+--------------+-----------+\n",
      "only showing top 5 rows\n",
      "\n"
     ]
    }
   ],
   "source": [
    "# Create the review_id_table DataFrame. \n",
    "# Convert the 'review_date' column to a date datatype with to_date(\"review_date\", 'yyyy-MM-dd').alias(\"review_date\")\n",
    "# review_id_df = df.select([, to_date(\"review_date\", 'yyyy-MM-dd').alias(\"review_date\")])\n",
    "review_id_df = df.select([\"review_id\", \"customer_id\", \"product_id\", \"product_parent\", to_date(\"review_date\", 'yyyy-MM-dd').alias(\"review_date\")])\n",
    "review_id_df.show(5)"
   ]
  },
  {
   "cell_type": "code",
   "execution_count": 9,
   "metadata": {
    "colab": {
     "base_uri": "https://localhost:8080/"
    },
    "id": "lzMmkdKmY--D",
    "outputId": "44c8d6d2-cc85-488a-a897-f0ec1df09cc8"
   },
   "outputs": [
    {
     "name": "stdout",
     "output_type": "stream",
     "text": [
      "+--------------+-----------+-------------+-----------+----+-----------------+\n",
      "|     review_id|star_rating|helpful_votes|total_votes|vine|verified_purchase|\n",
      "+--------------+-----------+-------------+-----------+----+-----------------+\n",
      "|R1WBPB8MDCCN8F|          5|            0|          0|   N|                N|\n",
      "|R32M0YEWV77XG8|          5|            1|          1|   N|                Y|\n",
      "| RR8V7WR27NXJ5|          1|            0|          0|   N|                Y|\n",
      "|R1MHO5V9Z932AY|          5|            0|          0|   N|                Y|\n",
      "|R16PD71086BD2V|          5|            0|          1|   N|                N|\n",
      "+--------------+-----------+-------------+-----------+----+-----------------+\n",
      "only showing top 5 rows\n",
      "\n"
     ]
    }
   ],
   "source": [
    "# Create the vine_table. DataFrame\n",
    "# vine_df = df.select([])\n",
    "vine_df = df.select([\"review_id\", \"star_rating\", \"helpful_votes\", \"total_votes\", \"vine\", \"verified_purchase\"])\n",
    "vine_df.show(5)"
   ]
  },
  {
   "cell_type": "markdown",
   "metadata": {
    "id": "jITZhLkmY--J"
   },
   "source": [
    "### Connect to the AWS RDS instance and write each DataFrame to its table. "
   ]
  },
  {
   "cell_type": "code",
   "execution_count": 19,
   "metadata": {
    "id": "7jiUvs1aY--L"
   },
   "outputs": [],
   "source": [
    "# Configure settings for RDS\n",
    "mode = \"append\"\n",
    "jdbc_url=\"jdbc:postgresql://jschindler11-amazon-reviews.czdg6b8emjl5.us-west-2.rds.amazonaws.com:5432/postgres\"\n",
    "config = {\"user\":\"postgres\", \n",
    "          \"password\": \"Mojojon99\", \n",
    "          \"driver\":\"org.postgresql.Driver\"}"
   ]
  },
  {
   "cell_type": "code",
   "execution_count": 20,
   "metadata": {
    "id": "T2zgZ-aKY--Q"
   },
   "outputs": [],
   "source": [
    "# Write review_id_df to table in RDS\n",
    "review_id_df.write.jdbc(url=jdbc_url, table='review_id_table', mode=mode, properties=config)"
   ]
  },
  {
   "cell_type": "code",
   "execution_count": null,
   "metadata": {
    "id": "1m3yzn-LY--U"
   },
   "outputs": [],
   "source": [
    "# Write products_df to table in RDS\n",
    "# about 3 min\n",
    "products_df.write.jdbc(url=jdbc_url, table='products_table', mode=mode, properties=config)"
   ]
  },
  {
   "cell_type": "code",
   "execution_count": 23,
   "metadata": {
    "id": "KbXri15fY--Z"
   },
   "outputs": [],
   "source": [
    "# Write customers_df to table in RDS\n",
    "# 5 min 14 s\n",
    "customers_df.write.jdbc(url=jdbc_url, table='customers_table', mode=mode, properties=config)"
   ]
  },
  {
   "cell_type": "code",
   "execution_count": null,
   "metadata": {
    "id": "XdQknSHLY--e"
   },
   "outputs": [],
   "source": [
    "# Write vine_df to table in RDS\n",
    "# 11 minutes\n",
    "vine_df.write.jdbc(url=jdbc_url, table='vine_table', mode=mode, properties=config)"
   ]
  },
  {
   "cell_type": "code",
   "execution_count": 59,
   "metadata": {
    "colab": {
     "base_uri": "https://localhost:8080/"
    },
    "id": "Exuo6ebUsCqW",
    "outputId": "f60c7139-68de-4098-96a2-aa5169f5fb45"
   },
   "outputs": [
    {
     "name": "stdout",
     "output_type": "stream",
     "text": [
      "+--------------+-----------+-------------+-----------+----+-----------------+\n",
      "|     review_id|star_rating|helpful_votes|total_votes|vine|verified_purchase|\n",
      "+--------------+-----------+-------------+-----------+----+-----------------+\n",
      "|R1B4753QMTD8ON|          5|           32|         32|   N|                N|\n",
      "|R28BVHOEL6GCHZ|          5|           21|         21|   N|                Y|\n",
      "|R27IB4BRKO71I0|          2|           16|         20|   N|                Y|\n",
      "| RJ86OW12Y4NRL|          5|          124|        128|   N|                Y|\n",
      "|R3KRABOWCH6ZE4|          1|           48|         65|   N|                Y|\n",
      "|R1OAKARA30DIWX|          4|           83|         89|   N|                Y|\n",
      "|R36LSV4WQ4VB1K|          5|           17|         22|   N|                N|\n",
      "|R18BTOE5UGN7UA|          5|           26|         28|   N|                Y|\n",
      "|R1DXLGDSK2WMLD|          4|           22|         22|   N|                N|\n",
      "| RZG2OHQ12YYZI|          5|           30|         31|   N|                Y|\n",
      "|R1ZPBQCT4DYE4Z|          1|           45|         51|   N|                Y|\n",
      "|R16KLPJUNC9GS7|          5|           20|         21|   N|                Y|\n",
      "|R3Q0414UJO4BDO|          1|           23|         28|   N|                Y|\n",
      "| RDHDT1Z4R8IOF|          1|           18|         20|   N|                Y|\n",
      "|R10BO7KWZNBGL1|          4|           23|         24|   N|                Y|\n",
      "|R1H6DQ1UXL6K8U|          5|           86|         97|   N|                N|\n",
      "|R32OMS1LSDRCOB|          4|           27|         31|   Y|                N|\n",
      "|R1ABJ5P5XAZ9AW|          5|          174|        187|   N|                N|\n",
      "|R2RRFZ2YFSJ2OF|          5|           27|         27|   N|                Y|\n",
      "|R19G3LWRFBHDX3|          1|            4|         42|   N|                Y|\n",
      "+--------------+-----------+-------------+-----------+----+-----------------+\n",
      "only showing top 20 rows\n",
      "\n"
     ]
    }
   ],
   "source": [
    "# Filter the data and create a new DataFrame to retrieve all the rows \n",
    "# where total_votes count is equal to or greater than 20 \n",
    "total_votes_vine_df = vine_df[vine_df['total_votes'] >= 20]\n",
    "total_votes_vine_df.show()"
   ]
  },
  {
   "cell_type": "code",
   "execution_count": 54,
   "metadata": {
    "colab": {
     "base_uri": "https://localhost:8080/"
    },
    "id": "fIiCqMoU4r4b",
    "outputId": "057f9318-ff5a-48f4-badd-398a37c4fe93"
   },
   "outputs": [
    {
     "name": "stdout",
     "output_type": "stream",
     "text": [
      "+--------------+-----------+-------------+-----------+----+-----------------+\n",
      "|     review_id|star_rating|helpful_votes|total_votes|vine|verified_purchase|\n",
      "+--------------+-----------+-------------+-----------+----+-----------------+\n",
      "|R1B4753QMTD8ON|          5|           32|         32|   N|                N|\n",
      "|R28BVHOEL6GCHZ|          5|           21|         21|   N|                Y|\n",
      "|R27IB4BRKO71I0|          2|           16|         20|   N|                Y|\n",
      "| RJ86OW12Y4NRL|          5|          124|        128|   N|                Y|\n",
      "|R3KRABOWCH6ZE4|          1|           48|         65|   N|                Y|\n",
      "|R1OAKARA30DIWX|          4|           83|         89|   N|                Y|\n",
      "|R36LSV4WQ4VB1K|          5|           17|         22|   N|                N|\n",
      "|R18BTOE5UGN7UA|          5|           26|         28|   N|                Y|\n",
      "|R1DXLGDSK2WMLD|          4|           22|         22|   N|                N|\n",
      "| RZG2OHQ12YYZI|          5|           30|         31|   N|                Y|\n",
      "|R1ZPBQCT4DYE4Z|          1|           45|         51|   N|                Y|\n",
      "|R16KLPJUNC9GS7|          5|           20|         21|   N|                Y|\n",
      "|R3Q0414UJO4BDO|          1|           23|         28|   N|                Y|\n",
      "| RDHDT1Z4R8IOF|          1|           18|         20|   N|                Y|\n",
      "|R10BO7KWZNBGL1|          4|           23|         24|   N|                Y|\n",
      "|R1H6DQ1UXL6K8U|          5|           86|         97|   N|                N|\n",
      "|R32OMS1LSDRCOB|          4|           27|         31|   Y|                N|\n",
      "|R1ABJ5P5XAZ9AW|          5|          174|        187|   N|                N|\n",
      "|R2RRFZ2YFSJ2OF|          5|           27|         27|   N|                Y|\n",
      "| RJ0T139KDORXP|          5|           23|         24|   N|                Y|\n",
      "+--------------+-----------+-------------+-----------+----+-----------------+\n",
      "only showing top 20 rows\n",
      "\n"
     ]
    }
   ],
   "source": [
    "# Filter this DataFrame and create a new DataFrame to retrieve all the rows where \n",
    "# the number of helpful_votes divided by total_votes is equal to or greater than 50%.\n",
    "helpful_votes_vine_df = total_votes_vine_df.filter((total_votes_vine_df.helpful_votes / total_votes_vine_df.total_votes) >= 0.5)\n",
    "helpful_votes_vine_df.show()"
   ]
  },
  {
   "cell_type": "code",
   "execution_count": 55,
   "metadata": {
    "colab": {
     "base_uri": "https://localhost:8080/"
    },
    "id": "uk2H4-lc4uo2",
    "outputId": "b541d438-42e3-4a33-a500-a2ae2f7d9074"
   },
   "outputs": [
    {
     "name": "stdout",
     "output_type": "stream",
     "text": [
      "+--------------+-----------+-------------+-----------+----+-----------------+\n",
      "|     review_id|star_rating|helpful_votes|total_votes|vine|verified_purchase|\n",
      "+--------------+-----------+-------------+-----------+----+-----------------+\n",
      "|R32OMS1LSDRCOB|          4|           27|         31|   Y|                N|\n",
      "|R2IPKK4I0XRCFR|          4|           16|         21|   Y|                N|\n",
      "| RXYYJ8SGI9IX6|          5|           36|         41|   Y|                N|\n",
      "|R1SAUBFC7T6JHC|          5|           73|         75|   Y|                N|\n",
      "|R329HVJKKHWSG3|          5|           59|         59|   Y|                N|\n",
      "| RZL21K50M52KW|          5|           22|         22|   Y|                N|\n",
      "|R24RC5J2D92SBE|          5|           19|         20|   Y|                N|\n",
      "|R1803HITBY7Y08|          4|           92|        104|   Y|                N|\n",
      "|R1888B8Z6QWYZ4|          4|           18|         25|   Y|                N|\n",
      "|R1S538NK2I5PRL|          5|           21|         22|   Y|                N|\n",
      "| RZDTBIS1289HJ|          5|           26|         28|   Y|                N|\n",
      "|R1MWLO2PFODMQ3|          5|           31|         32|   Y|                N|\n",
      "|R3O6EMC0ISQY92|          4|           25|         27|   Y|                N|\n",
      "|R1OGJY9TSNXXX3|          5|           19|         22|   Y|                N|\n",
      "| R3AOPWQNKJ6VE|          5|           25|         29|   Y|                N|\n",
      "|R1XJFRM9ANTVSZ|          4|           44|         46|   Y|                N|\n",
      "|R1VDF41NJMDGBT|          2|           23|         29|   Y|                N|\n",
      "|R2C0QDBA4NEEKD|          3|          173|        200|   Y|                N|\n",
      "|R3TUMV5DZL433H|          4|           29|         38|   Y|                N|\n",
      "| RVU1EA54INF9T|          5|           19|         21|   Y|                N|\n",
      "+--------------+-----------+-------------+-----------+----+-----------------+\n",
      "only showing top 20 rows\n",
      "\n"
     ]
    }
   ],
   "source": [
    "# Filter this DataFrame and create a new DataFrame that retrieves all the rows \n",
    "# where a review was written as part of the Vine program (paid), vine == 'Y'.\n",
    "vine_reviews_df = helpful_votes_vine_df[helpful_votes_vine_df['vine'] == 'Y']\n",
    "vine_reviews_df.show()"
   ]
  },
  {
   "cell_type": "code",
   "execution_count": 56,
   "metadata": {
    "colab": {
     "base_uri": "https://localhost:8080/"
    },
    "id": "UOoIvYZA5Kva",
    "outputId": "41905181-1162-4e91-80ea-1eb6f83f04c5"
   },
   "outputs": [
    {
     "name": "stdout",
     "output_type": "stream",
     "text": [
      "+--------------+-----------+-------------+-----------+----+-----------------+\n",
      "|     review_id|star_rating|helpful_votes|total_votes|vine|verified_purchase|\n",
      "+--------------+-----------+-------------+-----------+----+-----------------+\n",
      "|R1B4753QMTD8ON|          5|           32|         32|   N|                N|\n",
      "|R28BVHOEL6GCHZ|          5|           21|         21|   N|                Y|\n",
      "|R27IB4BRKO71I0|          2|           16|         20|   N|                Y|\n",
      "| RJ86OW12Y4NRL|          5|          124|        128|   N|                Y|\n",
      "|R3KRABOWCH6ZE4|          1|           48|         65|   N|                Y|\n",
      "|R1OAKARA30DIWX|          4|           83|         89|   N|                Y|\n",
      "|R36LSV4WQ4VB1K|          5|           17|         22|   N|                N|\n",
      "|R18BTOE5UGN7UA|          5|           26|         28|   N|                Y|\n",
      "|R1DXLGDSK2WMLD|          4|           22|         22|   N|                N|\n",
      "| RZG2OHQ12YYZI|          5|           30|         31|   N|                Y|\n",
      "|R1ZPBQCT4DYE4Z|          1|           45|         51|   N|                Y|\n",
      "|R16KLPJUNC9GS7|          5|           20|         21|   N|                Y|\n",
      "|R3Q0414UJO4BDO|          1|           23|         28|   N|                Y|\n",
      "| RDHDT1Z4R8IOF|          1|           18|         20|   N|                Y|\n",
      "|R10BO7KWZNBGL1|          4|           23|         24|   N|                Y|\n",
      "|R1H6DQ1UXL6K8U|          5|           86|         97|   N|                N|\n",
      "|R1ABJ5P5XAZ9AW|          5|          174|        187|   N|                N|\n",
      "|R2RRFZ2YFSJ2OF|          5|           27|         27|   N|                Y|\n",
      "| RJ0T139KDORXP|          5|           23|         24|   N|                Y|\n",
      "|R30MVK7HP2DW91|          5|           84|        124|   N|                Y|\n",
      "+--------------+-----------+-------------+-----------+----+-----------------+\n",
      "only showing top 20 rows\n",
      "\n"
     ]
    }
   ],
   "source": [
    "# Repeat, but this time retrieve all the rows where the review was \n",
    "# not part of the Vine program (unpaid), vine == 'N'.\n",
    "no_vine_reviews = helpful_votes_vine_df[helpful_votes_vine_df['vine'] == 'N']\n",
    "no_vine_reviews.show()"
   ]
  },
  {
   "cell_type": "code",
   "execution_count": 73,
   "metadata": {
    "colab": {
     "base_uri": "https://localhost:8080/"
    },
    "id": "wGD84ajH5n2G",
    "outputId": "038e8340-b024-4ab5-8ce3-40d6b761991d"
   },
   "outputs": [
    {
     "data": {
      "text/plain": [
       "4850360"
      ]
     },
     "execution_count": 73,
     "metadata": {},
     "output_type": "execute_result"
    }
   ],
   "source": [
    "# Determine the total number of reviews\n",
    "total_reviews = vine_df.count()\n",
    "total_reviews"
   ]
  },
  {
   "cell_type": "code",
   "execution_count": 58,
   "metadata": {
    "colab": {
     "base_uri": "https://localhost:8080/"
    },
    "id": "0VLANdtM5qWO",
    "outputId": "108f7fb8-05db-4e48-c898-7b2db7d3c5df"
   },
   "outputs": [
    {
     "data": {
      "text/plain": [
       "3040120"
      ]
     },
     "execution_count": 58,
     "metadata": {},
     "output_type": "execute_result"
    }
   ],
   "source": [
    "# Determine the number of 5-star reviews \n",
    "five_star = vine_df.filter(vine_df[\"star_rating\"]== 5)\n",
    "five_star.count()"
   ]
  },
  {
   "cell_type": "code",
   "execution_count": 76,
   "metadata": {
    "colab": {
     "base_uri": "https://localhost:8080/"
    },
    "id": "Ya1supvF89Qy",
    "outputId": "183d0464-6ef6-40fd-f4e9-d07e4a45b059"
   },
   "outputs": [
    {
     "data": {
      "text/plain": [
       "4481"
      ]
     },
     "execution_count": 76,
     "metadata": {},
     "output_type": "execute_result"
    }
   ],
   "source": [
    "# Determine the percentage of 5-star reviews for paid review\n",
    "five_star_paid = five_star.filter(vine_df[\"vine\"]==\"Y\").count()\n",
    "five_star_paid"
   ]
  },
  {
   "cell_type": "code",
   "execution_count": 78,
   "metadata": {
    "colab": {
     "base_uri": "https://localhost:8080/"
    },
    "id": "MFf5AgBz-Yuw",
    "outputId": "e6f06e6d-0fe8-49c4-819a-a820db016e65"
   },
   "outputs": [
    {
     "data": {
      "text/plain": [
       "0.001473954975461495"
      ]
     },
     "execution_count": 78,
     "metadata": {},
     "output_type": "execute_result"
    }
   ],
   "source": [
    "five_star_paid / five_star.count()"
   ]
  },
  {
   "cell_type": "code",
   "execution_count": 80,
   "metadata": {
    "colab": {
     "base_uri": "https://localhost:8080/"
    },
    "id": "JikvVmH0-LbG",
    "outputId": "fe6cc427-f9ee-4764-f073-945030c2e670"
   },
   "outputs": [
    {
     "data": {
      "text/plain": [
       "3035639"
      ]
     },
     "execution_count": 80,
     "metadata": {},
     "output_type": "execute_result"
    }
   ],
   "source": [
    "# Determine the percentage of 5-star reviews for unpaid review\n",
    "five_star_unpaid = five_star.filter(vine_df[\"vine\"]==\"N\").count()\n",
    "five_star_unpaid"
   ]
  },
  {
   "cell_type": "code",
   "execution_count": 81,
   "metadata": {
    "colab": {
     "base_uri": "https://localhost:8080/"
    },
    "id": "Sh51VRHv-q6o",
    "outputId": "162e1d40-ce6e-4491-a088-0026095320f0"
   },
   "outputs": [
    {
     "data": {
      "text/plain": [
       "0.9985260450245385"
      ]
     },
     "execution_count": 81,
     "metadata": {},
     "output_type": "execute_result"
    }
   ],
   "source": [
    "five_star_unpaid / five_star.count()"
   ]
  },
  {
   "cell_type": "code",
   "execution_count": 67,
   "metadata": {
    "colab": {
     "base_uri": "https://localhost:8080/"
    },
    "id": "rnB5_HzN67wC",
    "outputId": "82b83639-fe5e-4f12-c7f4-9574860f2654"
   },
   "outputs": [
    {
     "data": {
      "text/plain": [
       "0.0009238489514180391"
      ]
     },
     "execution_count": 67,
     "metadata": {},
     "output_type": "execute_result"
    }
   ],
   "source": [
    "fivestar_paid_percent = five_star_paid / total_reviews\n",
    "fivestar_paid_percent"
   ]
  },
  {
   "cell_type": "code",
   "execution_count": 69,
   "metadata": {
    "colab": {
     "base_uri": "https://localhost:8080/"
    },
    "id": "hlt-8tEq7Ori",
    "outputId": "03941802-f808-4053-eb42-58ac66392f19"
   },
   "outputs": [
    {
     "data": {
      "text/plain": [
       "0.6258584929778408"
      ]
     },
     "execution_count": 69,
     "metadata": {},
     "output_type": "execute_result"
    }
   ],
   "source": [
    "fivestar_unpaid_percent = five_star_unpaid / total_reviews\n",
    "fivestar_unpaid_percent"
   ]
  }
 ],
 "metadata": {
  "colab": {
   "provenance": []
  },
  "kernelspec": {
   "display_name": "Python 3 (ipykernel)",
   "language": "python",
   "name": "python3"
  },
  "language_info": {
   "codemirror_mode": {
    "name": "ipython",
    "version": 3
   },
   "file_extension": ".py",
   "mimetype": "text/x-python",
   "name": "python",
   "nbconvert_exporter": "python",
   "pygments_lexer": "ipython3",
   "version": "3.9.12"
  },
  "nteract": {
   "version": "0.12.3"
  }
 },
 "nbformat": 4,
 "nbformat_minor": 1
}
